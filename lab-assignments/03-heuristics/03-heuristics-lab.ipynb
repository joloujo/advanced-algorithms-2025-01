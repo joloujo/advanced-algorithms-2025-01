{
 "cells": [
  {
   "cell_type": "markdown",
   "metadata": {},
   "source": [
    "# Heuristics Lab\n",
    "The goal of this lab is to gain experience using heuristics in tandem with other algorithms.\n",
    "\n",
    "For the purposes of this assignment, you will be implementing a solver for the \"2048\" game (whose implementation will already be given to you). Before continuing, the following cell contains any dependencies you may need for this assignment: "
   ]
  },
  {
   "cell_type": "code",
   "execution_count": 226,
   "metadata": {},
   "outputs": [],
   "source": [
    "import matplotlib.pyplot as plt\n",
    "\n",
    "from game import *"
   ]
  },
  {
   "cell_type": "markdown",
   "metadata": {},
   "source": [
    "You should also look at `game.py` to understand how the in-line version has been implemented. "
   ]
  },
  {
   "cell_type": "markdown",
   "metadata": {},
   "source": [
    "## Background Info\n",
    "\n",
    "2048 is a single-player sliding block puzzle game played on a 4x4 grid where tiles containing even numbers can be moved around and merged to create larger numbers. If this does not ring a bell, it is highly recommended that you play the game at some point (enjoy the cupcake version [here](https://0x0800.github.io/2048-CUPCAKES/)).\n",
    "\n",
    "While the implementation has been given, ensure that you understand what a tile, a turn, a legal move, and when the game ends is.\n",
    "\n",
    "This particular implementation/walk through focuses on utilization of heuristic functions themselves (or strategies that are simple enough that a human player could follow them) & only looks ahead by 1 move (as opposed to adding this heuristic into another algorithm like nimimax or expectimax - which would yield better results)\n",
    "\n",
    "Questions: \n",
    "1. What is a potential representation of the solution space?\n",
    "2. How can you evaluate the results of a single move? \n",
    "3. How might you select and combine heuristics?\n",
    "4. How can you evaluate the results of an entire game?\n"
   ]
  },
  {
   "cell_type": "markdown",
   "metadata": {},
   "source": [
    "## A. Assessing the Problem\n",
    "\n",
    "What is a potential representation of the solution space?\n",
    "\n",
    "(Write your answer here)\n",
    "\n",
    "Play a SINGLE round of 2048 (you can do this on the website with the nice UI instead of the text version). What score did you get?\n",
    "\n",
    "(Write your answer here)\n"
   ]
  },
  {
   "cell_type": "markdown",
   "metadata": {},
   "source": [
    "## B. Evaluating a Single Move\n",
    "\n",
    "Before implementing specific heuristics, a general implementation procedure must be formed.\n",
    "\n",
    "Use the following pseudocode to write a function to evaluate a game _G_ in its current state:\n",
    "\n",
    "**Input:** _G_ - a game, _M_ - a set of moves \\\n",
    "**Output:** The best moves according to the specific evaluator\n",
    "\n",
    "**procedure** EvaluateGame(_G_, _M_)\\\n",
    "&emsp;_bestScore_ ← −1\\\n",
    "&emsp;_bestMoves_ ← ∅\\\n",
    "&emsp;**for all** _move_ ∈ _M_ **do**\\\n",
    "&emsp;&emsp;_G'_ ← _G_\\\n",
    "&emsp;&emsp;apply _move_ to _G'_\\\n",
    "&emsp;&emsp;_curScore_ ← the score given by the evaluator’s specific criteria\\\n",
    "&emsp;&emsp;**if** _curScore_ > _bestScore_ **then**\\\n",
    "&emsp;&emsp;&emsp;_bestScore_ ← _curScore_\\\n",
    "&emsp;&emsp;&emsp;_bestMoves_ ← {_move_}\\\n",
    "&emsp;&emsp;**else if** _curScore_ = _bestScore_ **then**\\\n",
    "&emsp;&emsp;&emsp;_bestMoves_ ← _bestMoves_ ∪ {_move_}\\\n",
    "&emsp;&emsp;**end if**\\\n",
    "&emsp;**end for**\\\n",
    "&emsp;return _bestMoves_\\\n",
    "**end procedure**\n",
    "\n",
    "For now, use the overall game score as the evaluation criteria. Remember to consider how the game/board is referenced when running each move."
   ]
  },
  {
   "cell_type": "code",
   "execution_count": 22,
   "metadata": {},
   "outputs": [],
   "source": [
    "def evaluate_game(game, moves): \n",
    "    pass # Replace with your code"
   ]
  },
  {
   "cell_type": "markdown",
   "metadata": {},
   "source": [
    "## C. Selecting Heuristics\n",
    "\n",
    "### Refactoring Evaluation\n",
    "\n",
    "At this point in time, the solver uses a 'greedy' heuristic of purely selecting tiles based on the highest immediate increase to score.  Before we try other heuristics, let's refactor the `evaluate_move()` function to take in a heuristic function instead of hardcoding the evaluator's criteria. \n",
    "\n",
    "After updating the function, it can be tested with the given `game_score()` heuristic function."
   ]
  },
  {
   "cell_type": "code",
   "execution_count": 24,
   "metadata": {},
   "outputs": [],
   "source": [
    "def game_score(game):\n",
    "    return game.score\n",
    "\n",
    "def evaluate_game (games, moves, heuristic): \n",
    "    pass # Replace with your code"
   ]
  },
  {
   "cell_type": "markdown",
   "metadata": {},
   "source": [
    "We should also define a random move selection function as a groud zero/baseline point of comparison."
   ]
  },
  {
   "cell_type": "code",
   "execution_count": 26,
   "metadata": {},
   "outputs": [],
   "source": [
    "def random_move(moves):\n",
    "    pass # Replace with your code"
   ]
  },
  {
   "cell_type": "markdown",
   "metadata": {},
   "source": [
    "### Various Heuristics\n",
    "\n",
    "There are multiple heuristics that can be used to solve a 2048 game: \n",
    "- Greedy - approximates in-game score after each move & return the one with the highest result\n",
    "- Monotincity - values are either non-increasing or non-decreasing along all rows and non-increasing or non-decreasing along all columns\n",
    "- Empty - prioritizes moves that increases the # of empty tiles on the board\n",
    "- Smoothness - keeps tiles of similar value close to each other\n",
    "- Weight matrix - a grid w higher weighting tiles on one part of the grid (resulting in higher utility & the algorithm shifting tiles/converging them on one corner of weights)\n",
    "\n",
    "Pick two heuristics (other than greedy - which you already did) & write functions calculating those. You may choose another heuristic that is not on this list if you would prefer that."
   ]
  },
  {
   "cell_type": "code",
   "execution_count": null,
   "metadata": {},
   "outputs": [],
   "source": [
    "# Replace with your code"
   ]
  },
  {
   "cell_type": "markdown",
   "metadata": {},
   "source": [
    "## D. Evaluating a Game\n",
    "\n",
    "### Making the Solver\n",
    "\n",
    "Now that value has successfully been equated to the outcome of a single move, this needs to be done on the entire game. \n",
    "\n",
    "To start, your solver should take in a game and a heuristic to abide by. \n",
    "\n",
    "Most heuristic evaluators are non-terminal, meaning they will return more than one possible move of equal value. In order to combat this, a terminal evaluator must be included in the overall game solver to ensure only one move is selected. This can be done by randomly selecting from the list of \"best moves\" provided by the heuristic. "
   ]
  },
  {
   "cell_type": "code",
   "execution_count": null,
   "metadata": {},
   "outputs": [],
   "source": [
    "def run_solver(game, heuristic):\n",
    "    pass # Replace with your code"
   ]
  },
  {
   "cell_type": "markdown",
   "metadata": {},
   "source": [
    "Run the following cell to test your solver on just the `game_score` heuristic:"
   ]
  },
  {
   "cell_type": "code",
   "execution_count": 204,
   "metadata": {},
   "outputs": [
    {
     "name": "stdout",
     "output_type": "stream",
     "text": [
      "Final Score:  4400\n",
      "Score: 4400\n",
      "[[ 32   8   4  16]\n",
      " [  4   2 512   2]\n",
      " [ 32  16   4   8]\n",
      " [  2   4   8   2]]\n"
     ]
    }
   ],
   "source": [
    "g = Board()\n",
    "run_solver(g, game_score)"
   ]
  },
  {
   "cell_type": "markdown",
   "metadata": {},
   "source": [
    "Try the full game solver on some of your other heuristics. Note that sometimes they will flatline or get stuck in a pattern of moves that do not appear to converge in a termination point."
   ]
  },
  {
   "cell_type": "code",
   "execution_count": 76,
   "metadata": {},
   "outputs": [],
   "source": [
    "# Test other heuristics here"
   ]
  },
  {
   "cell_type": "markdown",
   "metadata": {},
   "source": [
    "#### Resolving Flatlining\n",
    "\n",
    "One way to resolve flatlining is to to update the solver to count for a certain number of repeating moves and reintroduce a random selection."
   ]
  },
  {
   "cell_type": "code",
   "execution_count": 205,
   "metadata": {},
   "outputs": [],
   "source": [
    "def run_solver(game, heuristic): \n",
    "    threshold = 0 # Replace with your code (this can be a hardcoded value)\n",
    "    previous_move = None\n",
    "    repeat_count = 0\n",
    "\n",
    "    # Replace with your code"
   ]
  },
  {
   "cell_type": "markdown",
   "metadata": {},
   "source": [
    "#### Combining Heuristics \n",
    "\n",
    "A simple way to incorporate multiple heuristics is to create a `combined_heuristic()` function that assigns weights to various heuristics. These weights can also help offset any discrepancies in the scale of resulting \"scores\".\n",
    "\n",
    "The combined score should be calculated by multiplying the weight of an individual heuristic's score with its score."
   ]
  },
  {
   "cell_type": "code",
   "execution_count": 224,
   "metadata": {},
   "outputs": [],
   "source": [
    "def combined_heuristic(game):\n",
    "    # Heuristic 1 (Replace with your code)\n",
    "    # Heuristic 2 (Replace with your code)\n",
    "\n",
    "    # Assign weights to each heuristic\n",
    "\n",
    "    # Combine heuristics\n",
    "    combined_score = 0 \n",
    "\n",
    "    return combined_score\n",
    "\n",
    "g = Board()\n",
    "run_solver(g, combined_heuristic)\n"
   ]
  },
  {
   "cell_type": "markdown",
   "metadata": {},
   "source": [
    "### Plotting Results\n",
    "\n",
    "Run 100 cycles of each of your heuristics & plot your results. You should have at least 3 lines (score, your heuristic #1, your heuristic #2, and potentially a completely random implementation)"
   ]
  },
  {
   "cell_type": "code",
   "execution_count": null,
   "metadata": {},
   "outputs": [],
   "source": [
    "for _ in range(100):\n",
    "    g = Board()\n",
    "\n",
    "    # Run your solvers here"
   ]
  },
  {
   "cell_type": "code",
   "execution_count": null,
   "metadata": {},
   "outputs": [],
   "source": [
    "plt.show()"
   ]
  },
  {
   "cell_type": "markdown",
   "metadata": {},
   "source": []
  }
 ],
 "metadata": {
  "kernelspec": {
   "display_name": "base",
   "language": "python",
   "name": "python3"
  },
  "language_info": {
   "codemirror_mode": {
    "name": "ipython",
    "version": 3
   },
   "file_extension": ".py",
   "mimetype": "text/x-python",
   "name": "python",
   "nbconvert_exporter": "python",
   "pygments_lexer": "ipython3",
   "version": "3.12.2"
  }
 },
 "nbformat": 4,
 "nbformat_minor": 2
}
