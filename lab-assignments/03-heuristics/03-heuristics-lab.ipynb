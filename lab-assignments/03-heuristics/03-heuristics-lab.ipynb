{
 "cells": [
  {
   "cell_type": "markdown",
   "metadata": {},
   "source": [
    "# Heuristics Lab\n",
    "The goal of this lab is to gain experience using heuristics in tandem with other algorithms.\n",
    "\n",
    "For the purposes of this assignment, you will be implementing a solver for the \"2048\" game (whose implementation will already be given to you). Before continuing, the following cell contains any dependencies you may need for this assignment: "
   ]
  },
  {
   "cell_type": "code",
   "execution_count": 1,
   "metadata": {},
   "outputs": [],
   "source": [
    "import matplotlib.pyplot as plt\n",
    "\n",
    "from game import *"
   ]
  },
  {
   "cell_type": "markdown",
   "metadata": {},
   "source": [
    "You should also look at `game.py` to understand how the in-line version has been implemented. "
   ]
  },
  {
   "cell_type": "markdown",
   "metadata": {},
   "source": [
    "## Background Info\n",
    "\n",
    "2048 is a single-player sliding block puzzle game played on a 4x4 grid where tiles containing even numbers can be moved around and merged to create larger numbers. If this does not ring a bell, it is highly recommended that you play the game at some point (enjoy the cupcake version [here](https://0x0800.github.io/2048-CUPCAKES/)).\n",
    "\n",
    "While the implementation has been given, ensure that you understand what a tile, a turn, a legal move, and when the game ends is.\n",
    "\n",
    "This particular implementation/walk through focuses on utilization of heuristic functions themselves (or strategies that are simple enough that a human player could follow them) & only looks ahead by 1 move (as opposed to adding this heuristic into another algorithm like nimimax or expectimax - which would yield better results)\n",
    "\n",
    "Questions: \n",
    "1. What is a potential representation of the solution space?\n",
    "2. How can you evaluate the results of a single move? \n",
    "3. How might you select and combine heuristics?\n",
    "4. How can you evaluate the results of an entire game?\n"
   ]
  },
  {
   "cell_type": "markdown",
   "metadata": {},
   "source": [
    "## A. Assessing the Problem\n",
    "\n",
    "What is a potential representation of the solution space?\n",
    "\n",
    "*Either 0 or any power of 2 from 2 to 2048 in every square. Basically any possible board*\n",
    "\n",
    "Play a SINGLE round of 2048 (you can do this on the website with the nice UI instead of the text version). What score did you get?\n",
    "\n",
    "*2176*\n"
   ]
  },
  {
   "cell_type": "markdown",
   "metadata": {},
   "source": [
    "## B. Evaluating a Single Move\n",
    "\n",
    "Before implementing specific heuristics, a general implementation procedure must be formed.\n",
    "\n",
    "Use the following pseudocode to write a function to evaluate a game _G_ in its current state:\n",
    "\n",
    "**Input:** _G_ - a game, _M_ - a set of moves \\\n",
    "**Output:** The best moves according to the specific evaluator\n",
    "\n",
    "**procedure** EvaluateGame(_G_, _M_)\\\n",
    "&emsp;_bestScore_ ← −1\\\n",
    "&emsp;_bestMoves_ ← ∅\\\n",
    "&emsp;**for all** _move_ ∈ _M_ **do**\\\n",
    "&emsp;&emsp;_G'_ ← _G_\\\n",
    "&emsp;&emsp;apply _move_ to _G'_\\\n",
    "&emsp;&emsp;_curScore_ ← the score given by the evaluator’s specific criteria\\\n",
    "&emsp;&emsp;**if** _curScore_ > _bestScore_ **then**\\\n",
    "&emsp;&emsp;&emsp;_bestScore_ ← _curScore_\\\n",
    "&emsp;&emsp;&emsp;_bestMoves_ ← {_move_}\\\n",
    "&emsp;&emsp;**else if** _curScore_ = _bestScore_ **then**\\\n",
    "&emsp;&emsp;&emsp;_bestMoves_ ← _bestMoves_ ∪ {_move_}\\\n",
    "&emsp;&emsp;**end if**\\\n",
    "&emsp;**end for**\\\n",
    "&emsp;return _bestMoves_\\\n",
    "**end procedure**\n",
    "\n",
    "For now, use the overall game score as the evaluation criteria. Remember to consider how the game/board is referenced when running each move."
   ]
  },
  {
   "cell_type": "code",
   "execution_count": null,
   "metadata": {},
   "outputs": [],
   "source": [
    "from copy import deepcopy\n",
    "\n",
    "def evaluate_game(game: Board, moves: list[str]) -> list[str]: \n",
    "    bestScore: int = -1\n",
    "    bestMoves: list[str] = []\n",
    "\n",
    "    for move in moves:\n",
    "        checkGame = deepcopy(game)\n",
    "        checkGame.play_turn(move)\n",
    "        curScore = checkGame.score\n",
    "\n",
    "        if curScore > bestScore:\n",
    "            bestScore = curScore\n",
    "            bestMoves = [move]\n",
    "        elif curScore == bestScore:\n",
    "            bestMoves.append(move)\n",
    "    \n",
    "    return bestMoves\n"
   ]
  },
  {
   "cell_type": "markdown",
   "metadata": {},
   "source": [
    "## C. Selecting Heuristics\n",
    "\n",
    "### Refactoring Evaluation\n",
    "\n",
    "At this point in time, the solver uses a 'greedy' heuristic of purely selecting tiles based on the highest immediate increase to score.  Before we try other heuristics, let's refactor the `evaluate_move()` function to take in a heuristic function instead of hardcoding the evaluator's criteria. \n",
    "\n",
    "After updating the function, it can be tested with the given `game_score()` heuristic function."
   ]
  },
  {
   "cell_type": "code",
   "execution_count": null,
   "metadata": {},
   "outputs": [],
   "source": [
    "from typing import Callable\n",
    "\n",
    "def game_score(game: Board) -> int:\n",
    "    return game.score\n",
    "\n",
    "def evaluate_game(game: Board, moves: list[str], heuristic: Callable[[Board], int]) -> list[str]: \n",
    "    bestScore: int = -1\n",
    "    bestMoves: list[str] = []\n",
    "\n",
    "    for move in moves:\n",
    "        checkGame = deepcopy(game)\n",
    "        checkGame.play_turn(move)\n",
    "        curScore = heuristic(checkGame)\n",
    "\n",
    "        if curScore > bestScore:\n",
    "            bestScore = curScore\n",
    "            bestMoves = [move]\n",
    "        elif curScore == bestScore:\n",
    "            bestMoves.append(move)\n",
    "    \n",
    "    return bestMoves"
   ]
  },
  {
   "cell_type": "markdown",
   "metadata": {},
   "source": [
    "We should also define a random move selection function as a groud zero/baseline point of comparison."
   ]
  },
  {
   "cell_type": "code",
   "execution_count": 62,
   "metadata": {},
   "outputs": [],
   "source": [
    "from random import choice\n",
    "\n",
    "def random_move(moves: list[str]) -> str:\n",
    "    return choice(moves)"
   ]
  },
  {
   "cell_type": "markdown",
   "metadata": {},
   "source": [
    "### Various Heuristics\n",
    "\n",
    "There are multiple heuristics that can be used to solve a 2048 game: \n",
    "- Greedy - approximates in-game score after each move & return the one with the highest result\n",
    "- Monotincity - values are either non-increasing or non-decreasing along all rows and non-increasing or non-decreasing along all columns\n",
    "- Empty - prioritizes moves that increases the # of empty tiles on the board\n",
    "- Smoothness - keeps tiles of similar value close to each other\n",
    "- Weight matrix - a grid w higher weighting tiles on one part of the grid (resulting in higher utility & the algorithm shifting tiles/converging them on one corner of weights)\n",
    "\n",
    "Pick two heuristics (other than greedy - which you already did) & write functions calculating those. You may choose another heuristic that is not on this list if you would prefer that."
   ]
  },
  {
   "cell_type": "code",
   "execution_count": 44,
   "metadata": {},
   "outputs": [],
   "source": [
    "# Replace with your code\n",
    "\n",
    "def empty(game: Board) -> int:\n",
    "    return 16 - np.count_nonzero(game.board)\n",
    "\n",
    "def monotonicity(game: Board) -> int:\n",
    "\n",
    "    # Calculate the difference in adjacent tiles along rows and columns\n",
    "    rowsDiff = np.diff(game.board, axis=1)\n",
    "    colsDiff = np.diff(game.board, axis=0)\n",
    "\n",
    "    # If a row or column is monotonic, the diffs will be either be all >= 0 or all <= 0\n",
    "    monotonicRows = np.sum(np.logical_or(\n",
    "        np.all(np.greater_equal(rowsDiff, 0), axis=1), \n",
    "        np.all(np.less_equal(rowsDiff, 0), axis=1)\n",
    "        ))\n",
    "    \n",
    "    monotonicCols = np.sum(np.logical_or(\n",
    "        np.all(np.greater_equal(colsDiff, 0), axis=0), \n",
    "        np.all(np.less_equal(colsDiff, 0), axis=0)\n",
    "        ))\n",
    "\n",
    "    # return the total number of monotonic rows and columns\n",
    "    return int(monotonicRows + monotonicCols)"
   ]
  },
  {
   "cell_type": "markdown",
   "metadata": {},
   "source": [
    "## D. Evaluating a Game\n",
    "\n",
    "### Making the Solver\n",
    "\n",
    "Now that value has successfully been equated to the outcome of a single move, this needs to be done on the entire game. \n",
    "\n",
    "To start, your solver should take in a game and a heuristic to abide by. \n",
    "\n",
    "Most heuristic evaluators are non-terminal, meaning they will return more than one possible move of equal value. In order to combat this, a terminal evaluator must be included in the overall game solver to ensure only one move is selected. This can be done by randomly selecting from the list of \"best moves\" provided by the heuristic. "
   ]
  },
  {
   "cell_type": "code",
   "execution_count": null,
   "metadata": {},
   "outputs": [],
   "source": [
    "from random import choice\n",
    "\n",
    "def run_solver(game: Board, heuristic: Callable[[Board], int]) -> int:\n",
    "    while game.has_valid_moves():\n",
    "        bestMoves = evaluate_game(game, ['w', 'a', 's', 'd'], heuristic)\n",
    "        game.play_turn(choice(bestMoves))\n",
    "    return game.score\n",
    "    \n",
    "\n"
   ]
  },
  {
   "cell_type": "markdown",
   "metadata": {},
   "source": [
    "Run the following cell to test your solver on just the `game_score` heuristic:"
   ]
  },
  {
   "cell_type": "code",
   "execution_count": 58,
   "metadata": {},
   "outputs": [
    {
     "data": {
      "text/plain": [
       "np.int64(724)"
      ]
     },
     "execution_count": 58,
     "metadata": {},
     "output_type": "execute_result"
    }
   ],
   "source": [
    "g = Board()\n",
    "run_solver(g, game_score)"
   ]
  },
  {
   "cell_type": "markdown",
   "metadata": {},
   "source": [
    "Try the full game solver on some of your other heuristics. Note that sometimes they will flatline or get stuck in a pattern of moves that do not appear to converge in a termination point."
   ]
  },
  {
   "cell_type": "code",
   "execution_count": 63,
   "metadata": {},
   "outputs": [
    {
     "name": "stdout",
     "output_type": "stream",
     "text": [
      "1216\n",
      "1540\n"
     ]
    }
   ],
   "source": [
    "# Test other heuristics here\n",
    "g = Board()\n",
    "print(run_solver(g, empty))\n",
    "\n",
    "g = Board()\n",
    "print(run_solver(g, monotonicity))"
   ]
  },
  {
   "cell_type": "markdown",
   "metadata": {},
   "source": [
    "#### Resolving Flatlining\n",
    "\n",
    "One way to resolve flatlining is to to update the solver to count for a certain number of repeating moves and reintroduce a random selection."
   ]
  },
  {
   "cell_type": "code",
   "execution_count": 76,
   "metadata": {},
   "outputs": [],
   "source": [
    "def run_solver(game: Board, heuristic: Callable[[Board], int]) -> int:\n",
    "    threshold: int = 3 # Replace with your code (this can be a hardcoded value)\n",
    "    previous_move: str = ''\n",
    "    repeat_count: int = 0\n",
    "\n",
    "    while game.has_valid_moves():\n",
    "\n",
    "        bestMoves = evaluate_game(game, ['w', 'a', 's', 'd'], heuristic)\n",
    "        move = choice(bestMoves)\n",
    "\n",
    "        if move == previous_move:\n",
    "            repeat_count += 1\n",
    "            if repeat_count >= threshold:\n",
    "                move = random_move(['w', 'a', 's', 'd'])\n",
    "        else:\n",
    "            previous_move = move\n",
    "            repeat_count = 0\n",
    "\n",
    "        game.play_turn(move)\n",
    "    return game.score"
   ]
  },
  {
   "cell_type": "markdown",
   "metadata": {},
   "source": [
    "#### Combining Heuristics \n",
    "\n",
    "A simple way to incorporate multiple heuristics is to create a `combined_heuristic()` function that assigns weights to various heuristics. These weights can also help offset any discrepancies in the scale of resulting \"scores\".\n",
    "\n",
    "The combined score should be calculated by multiplying the weight of an individual heuristic's score with its score."
   ]
  },
  {
   "cell_type": "code",
   "execution_count": 77,
   "metadata": {},
   "outputs": [
    {
     "data": {
      "text/plain": [
       "np.int64(2612)"
      ]
     },
     "execution_count": 77,
     "metadata": {},
     "output_type": "execute_result"
    }
   ],
   "source": [
    "def combined_heuristic(game):\n",
    "    # Heuristic 1 (Replace with your code)\n",
    "    score1 = empty(game)\n",
    "    # Heuristic 2 (Replace with your code)\n",
    "    score2 = monotonicity(game)\n",
    "\n",
    "    # Assign weights to each heuristic\n",
    "    weight1 = 1\n",
    "    weight2 = 2\n",
    "\n",
    "    # Combine heuristics\n",
    "    combined_score = score1 * weight1 + score2 * weight2\n",
    "\n",
    "    return combined_score\n",
    "\n",
    "g = Board()\n",
    "run_solver(g, combined_heuristic)\n"
   ]
  },
  {
   "cell_type": "markdown",
   "metadata": {},
   "source": [
    "### Plotting Results\n",
    "\n",
    "Run 100 cycles of each of your heuristics & plot your results. You should have at least 3 lines (score, your heuristic #1, your heuristic #2, and potentially a completely random implementation)"
   ]
  },
  {
   "cell_type": "code",
   "execution_count": 102,
   "metadata": {},
   "outputs": [],
   "source": [
    "from copy import deepcopy\n",
    "from random import randint\n",
    "\n",
    "def random_heuristic(game: Board) -> int:\n",
    "    return randint(0, 100)\n",
    "\n",
    "heuristics: list[Callable[[Board], int]] = [game_score, empty, monotonicity, random_heuristic]\n",
    "n: int = 100\n",
    "scores = np.zeros((n, len(heuristics)))\n",
    "\n",
    "for i in range(n):\n",
    "    start_configuration = Board()\n",
    "\n",
    "    for j, heuristic in enumerate(heuristics):\n",
    "        game = deepcopy(start_configuration)\n",
    "        scores[i, j] = run_solver(game, heuristic)"
   ]
  },
  {
   "cell_type": "code",
   "execution_count": 103,
   "metadata": {},
   "outputs": [
    {
     "data": {
      "image/png": "[encoded data removed]",
      "text/plain": [
       "<Figure size 1000x700 with 1 Axes>"
      ]
     },
     "metadata": {},
     "output_type": "display_data"
    }
   ],
   "source": [
    "fig = plt.figure(figsize =(10, 7))\n",
    "ax = fig.add_subplot(111)\n",
    "ax.boxplot(scores)\n",
    "ax.set_xticklabels([heuristic.__name__ for heuristic in heuristics])\n",
    "ax.set_ylabel('Score')\n",
    "ax.set_title('Score distribution by heuristic')\n",
    "plt.show()"
   ]
  },
  {
   "cell_type": "markdown",
   "metadata": {},
   "source": []
  }
 ],
 "metadata": {
  "kernelspec": {
   "display_name": "venv",
   "language": "python",
   "name": "python3"
  },
  "language_info": {
   "codemirror_mode": {
    "name": "ipython",
    "version": 3
   },
   "file_extension": ".py",
   "mimetype": "text/x-python",
   "name": "python",
   "nbconvert_exporter": "python",
   "pygments_lexer": "ipython3",
   "version": "3.12.8"
  }
 },
 "nbformat": 4,
 "nbformat_minor": 2
}
