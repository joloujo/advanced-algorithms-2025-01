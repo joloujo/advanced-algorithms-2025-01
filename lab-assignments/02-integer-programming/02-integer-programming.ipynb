{
 "cells": [
  {
   "cell_type": "markdown",
   "metadata": {},
   "source": [
    "# Integer Programming Homework\n",
    "\n",
    "## Total: 40 Points\n",
    "\n",
    "This notebook guides you through solving various Integer Programming (IP) problems and implementations. \n",
    "Follow the instructions provided in each section, write the required code, and answer the questions.\n",
    "\n",
    "<em>NOTE: You should have the necessary setup from the LP Homework assignment."
   ]
  },
  {
   "cell_type": "markdown",
   "metadata": {},
   "source": [
    "# Question 1: Maya's Midnight March (10 points)\n",
    "Maya's SCOPE team realized that they need someone to go out at midnight wearing white to test the visibility of pedestrians on crosswalks. Maya, who loves her hikes, happily volunteered. She needs to pack light in order to hit all the crosswalks in Needham. \n",
    "\n",
    "The maximum weight she wants to carry is 15 lbs. Here are the different items she can bring and their importance for her SCOPE team's data collection: \n",
    "\n",
    "+ Reflective Vest: Weight = 2 lbs, Importance = 6\n",
    "+ Light Meter: Weight = 4 lbs, Importance = 12\n",
    "+ DSLR Camera: Weight = 10 lbs, Importance = 4 (They really don't want to take pictures)\n",
    "+ Notebook: Weight = 5 lbs, Importance = 8\n",
    "+ Police Baton: Weight = 9 lbs, Importance = 10\n",
    "\n",
    "### Formulate the IP\n",
    "First, start by setting up the IP similar to the other problems. Write the objective function to maximize the total value of items brought.\n",
    "\n",
    "Write the equations using LaTeX, between the $$ tags. Then convert the IP problem into code using this documentation: [PuLP Guide](https://realpython.com/linear-programming-python/#using-pulp). Using a binary variable ensures that only integer solutions are provided.\n",
    "\n",
    "#### Solution:\n",
    "Objective Function: $$ Z = $$ \n",
    "Constraint: $$ <= $$ "
   ]
  },
  {
   "cell_type": "code",
   "execution_count": 1,
   "metadata": {},
   "outputs": [
    {
     "name": "stdout",
     "output_type": "stream",
     "text": [
      "Welcome to the CBC MILP Solver \n",
      "Version: 2.10.3 \n",
      "Build Date: Dec 15 2019 \n",
      "\n",
      "command line - /Users/rdave/github/advanced-algorithms/lib/python3.13/site-packages/pulp/solverdir/cbc/osx/64/cbc /var/folders/nh/x_76l9hd06g7lm0lbb0fml_80000gn/T/1c0cf072c5ed4fa6accb58f2cd826ac7-pulp.mps -max -timeMode elapsed -branch -printingOptions all -solution /var/folders/nh/x_76l9hd06g7lm0lbb0fml_80000gn/T/1c0cf072c5ed4fa6accb58f2cd826ac7-pulp.sol (default strategy 1)\n",
      "At line 2 NAME          MODEL\n",
      "At line 3 ROWS\n",
      "At line 5 COLUMNS\n",
      "At line 7 RHS\n",
      "At line 8 BOUNDS\n",
      "At line 10 ENDATA\n",
      "Problem MODEL has 0 rows, 1 columns and 0 elements\n",
      "Coin0008I MODEL read with 0 errors\n",
      "Option for timeMode changed from cpu to elapsed\n",
      "Empty problem - 0 rows, 1 columns and 0 elements\n",
      "Optimal - objective value -0\n",
      "Optimal objective -0 - 0 iterations time 0.002\n",
      "Option for printingOptions changed from normal to all\n",
      "Total time (CPU seconds):       0.00   (Wallclock seconds):       0.01\n",
      "\n"
     ]
    },
    {
     "data": {
      "text/plain": [
       "1"
      ]
     },
     "execution_count": 1,
     "metadata": {},
     "output_type": "execute_result"
    }
   ],
   "source": [
    "from pulp import *\n",
    "\n",
    "# Define the Problem\n",
    "model = LpProblem(name=\"mayas_march\", sense=LpMaximize) # type: ignore\n",
    "\n",
    "# Define the Variables\n",
    "# TODO: Define each of the decision variables here (each item). Remember to assign them as binary\n",
    "\n",
    "# Objective Function\n",
    "# TODO: Add objective function\n",
    "\n",
    "# Constraints\n",
    "# TODO: Add the weight constraint\n",
    "\n",
    "# Solve the Model\n",
    "model.solve()"
   ]
  },
  {
   "cell_type": "code",
   "execution_count": 5,
   "metadata": {},
   "outputs": [
    {
     "name": "stdout",
     "output_type": "stream",
     "text": [
      "x1 1.0\n",
      "x2 1.0\n",
      "x3 0.0\n",
      "x4 0.0\n",
      "x5 1.0\n"
     ]
    }
   ],
   "source": [
    "# Print the solution\n",
    "for var in model.variables():\n",
    "    print(var.name, var.value())"
   ]
  },
  {
   "cell_type": "markdown",
   "metadata": {},
   "source": [
    "Solution: <em>Write the items selected below.</em>\n",
    "\n",
    "- Items selected: <b> </b>"
   ]
  },
  {
   "cell_type": "markdown",
   "metadata": {},
   "source": [
    "# Question 2: Branch And Bound (30 points)\n",
    "Branch and bound is one of the most common ways to solve optimization problems, including IP problems. It's a search algorithm that iteratively explores the space to find the optimal solution. \n",
    "\n",
    "Start by reading through this explanation: https://web.tecnico.ulisboa.pt/mcasquilho/compute/_linpro/TaylorB_module_c.pdf and writing pseudocode for the algorithm below. Then, we'll work through a scaffolded recursive implementation of the algorithm in Python. \n",
    "\n",
    "### Pseudocode\n",
    "\n",
    "### Implementation\n",
    "\n",
    "We start by defining our arrays for the system (c, A, b). c is an array of the coefficients of the objective function, and A and b are for each constraint. For example: \n",
    "\n",
    "$$ Z = 4x_1 + 3 x_2 + x_3$$\n",
    "$$ 3x_1 + 2x_2 + x_3 <= 7$$\n",
    "$$ 2x_1 + x_2 + 2x_3 <= 11$$\n",
    "\n",
    "From here, c = [4, 3, 1], A is [[3, 2, 1], [2, 1, 2]], and b is [7, 11]. \n",
    "\n",
    "If there are any upper or lower bounds on any variables, add those to the lb and ub list."
   ]
  },
  {
   "cell_type": "code",
   "execution_count": null,
   "metadata": {},
   "outputs": [],
   "source": [
    "# Similar to the text, we'll have a function to find the relaxed solution of the IP (including decimal points)\n",
    "import scipy\n",
    "import numpy as np\n",
    "\n",
    "\"\"\"\n",
    "Python implementation of branch and bound algorithm for integer programming problems.\n",
    "\n",
    "Args:\n",
    "    c: array with objective function coefficients \n",
    "    A: 2D array with constraint coefficients\n",
    "    b: array with constraint values\n",
    "    lb: array with lower bound values for each variable\n",
    "    ub: array with upper bound values for each variable\n",
    "\n",
    "Returns: an array for values of each variable and the optimal objective function value\n",
    "\"\"\"\n",
    "def branch_and_bound(c, A, b, lb, ub):\n",
    "    optimized = scipy.optimize.linprog(-c, A, b, method=\"highs\", bounds=list(zip(lb, ub))) # Function to optimize current \n",
    "\n",
    "    x = optimized.x\n",
    "    z = optimized.fun\n",
    "\n",
    "    # TODO: First check if the problem is feasible or not (check if Z exists).\n",
    "    \n",
    "    # TODO: Then, check if the current variables are all integers or not. \n",
    "    all_integers = None\n",
    "    \n",
    "    # TODO: If all variables are integers, we have reached the solution \n",
    "    if all_integers:\n",
    "        return None\n",
    "    \n",
    "    # Otherwise we need to branch the value with the most decimal difference similar to how the paper explained\n",
    "    else:\n",
    "        # TODO: Start by copying the lower bounds and upper bounds into new arrays. This is how we establish branching\n",
    "        left_lb = None\n",
    "        left_up = None\n",
    "\n",
    "        right_lb = None\n",
    "        right_up = None\n",
    "\n",
    "        # TODO: Find which variable has the maximum decimal difference and save the index (HINT: what math operation deals with remainders?)\n",
    "        max_difference_idx = None\n",
    "\n",
    "        # TODO: Set the upper and lower bounds based on branching at that variable (floor and ceiling)\n",
    "        left_up[max_difference_idx] = None\n",
    "        right_lb[max_difference_idx] = None\n",
    "\n",
    "        # TODO: Recursively get values for the optimized solution of the left and right nodes\n",
    "        x_left, z_left = None\n",
    "        x_right, z_right = None\n",
    "\n",
    "        # TODO:Return the coefficients with the higher value of the two (HINT: This takes an if statement)\n",
    "        return None\n"
   ]
  },
  {
   "cell_type": "markdown",
   "metadata": {},
   "source": [
    "Now, lets test the function you've written on the sample problem written above. "
   ]
  },
  {
   "cell_type": "code",
   "execution_count": 33,
   "metadata": {},
   "outputs": [
    {
     "name": "stdout",
     "output_type": "stream",
     "text": [
      "Variable\n",
      ">  x0 = 1.0\n",
      ">  x1 = 2.0\n",
      ">  x2 = 0.0\n",
      "Objective Function: 10.0\n"
     ]
    }
   ],
   "source": [
    "c = np.array([4, 3, 1])\n",
    "A = np.array([[3, 2, 1], [2, 1, 2]])\n",
    "b = np.array([7, 11])\n",
    "\n",
    "lb = np.array([0, 0, 0])\n",
    "ub = np.array([None, None, None])\n",
    "\n",
    "x, z = branch_and_bound(c, A, b, lb, ub)\n",
    "\n",
    "print(\"Variable\")\n",
    "for idx, var in enumerate(x): \n",
    "    print(f\">  x{idx} = {var}\")\n",
    "\n",
    "print(f\"Objective Function: {z}\")"
   ]
  },
  {
   "cell_type": "markdown",
   "metadata": {},
   "source": [
    "If correct, your solution should be x0 = 1, x1 = 2, and x2 = 0"
   ]
  }
 ],
 "metadata": {
  "kernelspec": {
   "display_name": "advanced-algorithms",
   "language": "python",
   "name": "python3"
  },
  "language_info": {
   "codemirror_mode": {
    "name": "ipython",
    "version": 3
   },
   "file_extension": ".py",
   "mimetype": "text/x-python",
   "name": "python",
   "nbconvert_exporter": "python",
   "pygments_lexer": "ipython3",
   "version": "3.13.0"
  }
 },
 "nbformat": 4,
 "nbformat_minor": 2
}
