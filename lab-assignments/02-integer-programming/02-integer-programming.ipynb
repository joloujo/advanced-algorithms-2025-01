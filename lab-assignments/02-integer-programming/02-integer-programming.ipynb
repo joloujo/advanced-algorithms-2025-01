{
 "cells": [
  {
   "cell_type": "markdown",
   "metadata": {},
   "source": [
    "# Integer Programming Homework\n",
    "\n",
    "## Total: 40 Points\n",
    "\n",
    "This notebook guides you through solving various Integer Programming (IP) problems and implementations. \n",
    "Follow the instructions provided in each section, write the required code, and answer the questions.\n",
    "\n",
    "<em>NOTE: You should have the necessary setup from the LP Homework assignment."
   ]
  },
  {
   "cell_type": "markdown",
   "metadata": {},
   "source": [
    "# Question 1: Maya's Midnight March (10 points)\n",
    "Maya's SCOPE team realized that they need someone to go out at midnight wearing white to test the visibility of pedestrians on crosswalks. Maya, who loves her hikes, happily volunteered. She needs to pack light in order to hit all the crosswalks in Needham. \n",
    "\n",
    "The maximum weight she wants to carry is 15 lbs. Here are the different items she can bring and their importance for her SCOPE team's data collection: \n",
    "\n",
    "+ Reflective Vest: Weight = 2 lbs, Importance = 6\n",
    "+ Light Meter: Weight = 4 lbs, Importance = 12\n",
    "+ DSLR Camera: Weight = 10 lbs, Importance = 4 (They really don't want to take pictures)\n",
    "+ Notebook: Weight = 5 lbs, Importance = 8\n",
    "+ Police Baton: Weight = 9 lbs, Importance = 10\n",
    "\n",
    "### Formulate the IP\n",
    "First, start by setting up the IP similar to the other problems. Write the objective function to maximize the total value of items brought.\n",
    "\n",
    "Write the equations using LaTeX, between the $$ tags. Then convert the IP problem into code using this documentation: [PuLP Guide](https://realpython.com/linear-programming-python/#using-pulp). Using a binary variable ensures that only integer solutions are provided.\n",
    "\n",
    "#### Solution:\n",
    "$$ \\text{integer } n \\text{ for number of items} \\\\\n",
    "\\text{binary } y_i \\text{ for if item } i \\text{ was chosen} \\\\\n",
    "\\text{integer } w_i \\text{ for weight of item } i \\\\\n",
    "\\text{integer } v_i \\text{ for value/importance of item } i \\\\\n",
    "\\text{integer } W = 15 \\text{ for maximum total weight} $$\n",
    "Objective Function: $$ Z = \\sum_{i = 0}^{n} y_iv_i $$ \n",
    "Constraint: $$ \\sum_{i = 0}^{n} y_iw_i \\le W $$ "
   ]
  },
  {
   "cell_type": "code",
   "execution_count": null,
   "metadata": {},
   "outputs": [
    {
     "data": {
      "text/plain": [
       "1"
      ]
     },
     "execution_count": 3,
     "metadata": {},
     "output_type": "execute_result"
    }
   ],
   "source": [
    "from pulp import *\n",
    "\n",
    "# Define the Problem\n",
    "model = LpProblem(name=\"mayas_march\", sense=LpMaximize) # type: ignore\n",
    "\n",
    "# Define the Variables\n",
    "# Define each of the decision variables here (each item). Remember to assign them as binary\n",
    "n = 5\n",
    "y = [LpVariable(name=f'y{i+1}', cat=\"Binary\") for i in range(n)]\n",
    "w = [2, 4, 10, 5, 9]\n",
    "v = [6, 12, 4, 8, 10]\n",
    "W = 15\n",
    "\n",
    "# Objective Function\n",
    "# Add objective function\n",
    "model += sum([y[i] * v[i] for i in range(n)])\n",
    "\n",
    "# Constraints\n",
    "# Add the weight constraint\n",
    "model += (sum([y[i] * w[i] for i in range(n)]) <= W, \"maximum_weight\")\n",
    "\n",
    "# Solve the Model\n",
    "model.solve()"
   ]
  },
  {
   "cell_type": "code",
   "execution_count": 4,
   "metadata": {},
   "outputs": [
    {
     "name": "stdout",
     "output_type": "stream",
     "text": [
      "y1 1.0\n",
      "y2 1.0\n",
      "y3 0.0\n",
      "y4 0.0\n",
      "y5 1.0\n"
     ]
    }
   ],
   "source": [
    "# Print the solution\n",
    "for var in model.variables():\n",
    "    print(var.name, var.value())"
   ]
  },
  {
   "cell_type": "markdown",
   "metadata": {},
   "source": [
    "Solution: <em>Write the items selected below.</em>\n",
    "\n",
    "- Items selected: <b> Reflective Vest, Light Meter, Police Baton</b>"
   ]
  },
  {
   "cell_type": "markdown",
   "metadata": {},
   "source": [
    "# Question 2: Branch And Bound (30 points)\n",
    "Branch and bound is one of the most common ways to solve optimization problems, including IP problems. It's a search algorithm that iteratively explores the space to find the optimal solution. \n",
    "\n",
    "Start by reading through this explanation: https://web.tecnico.ulisboa.pt/mcasquilho/compute/_linpro/TaylorB_module_c.pdf and writing pseudocode for the algorithm below. Then, we'll work through a scaffolded recursive implementation of the algorithm in Python. \n",
    "\n",
    "### Pseudocode\n",
    "\n",
    "- Find the solution with relaxed integer constraints.\n",
    "- Your solution is the upper bound, and the rounded down solution becomes the lower bound.\n",
    "- Constrain the variable with the greatest fractional part by making a $\\le$ and a $\\ge$ constraint for the adjacent integers, then branch.\n",
    "- Solve each new node, the solution becomes the upper bound for each node, and the best integer solution is the global lower bound.\n",
    "- If you have a velid integer solution, there is no feasible solution, or the upper bound of a node is lower than the global lower bound, it's an end node. \n",
    "- If you've gotten to all of the end nodes, your best integer solution is the optimal soution with the integer constraints.\n",
    "\n",
    "### Implementation\n",
    "\n",
    "We start by defining our arrays for the system (c, A, b). c is an array of the coefficients of the objective function, and A and b are for each constraint. For example: \n",
    "\n",
    "$$ Z = 4x_1 + 3 x_2 + x_3$$\n",
    "$$ 3x_1 + 2x_2 + x_3 <= 7$$\n",
    "$$ 2x_1 + x_2 + 2x_3 <= 11$$\n",
    "\n",
    "From here, c = [4, 3, 1], A is [[3, 2, 1], [2, 1, 2]], and b is [7, 11]. \n",
    "\n",
    "If there are any upper or lower bounds on any variables, add those to the lb and ub list."
   ]
  },
  {
   "cell_type": "code",
   "execution_count": 12,
   "metadata": {},
   "outputs": [],
   "source": [
    "# Similar to the text, we'll have a function to find the relaxed solution of the IP (including decimal points)\n",
    "import scipy\n",
    "import numpy as np\n",
    "from copy import deepcopy\n",
    "import math\n",
    "\n",
    "\"\"\"\n",
    "Python implementation of branch and bound algorithm for integer programming problems.\n",
    "\n",
    "Args:\n",
    "    c: array with objective function coefficients \n",
    "    A: 2D array with constraint coefficients\n",
    "    b: array with constraint values\n",
    "    lb: array with lower bound values for each variable\n",
    "    ub: array with upper bound values for each variable\n",
    "\n",
    "Returns: an array for values of each variable and the optimal objective function value\n",
    "\"\"\"\n",
    "def branch_and_bound(c, A, b, lb, ub):\n",
    "    optimized = scipy.optimize.linprog(-c, A, b, method=\"highs\", bounds=list(zip(lb, ub))) # Function to optimize current \n",
    "\n",
    "    x = optimized.x\n",
    "    z = optimized.fun\n",
    "\n",
    "    # First check if the problem is feasible or not (check if Z exists).\n",
    "    if z is None:\n",
    "        return None, None\n",
    "    \n",
    "    # Then, check if the current variables are all integers or not. \n",
    "    all_integers = None\n",
    "    if all([n.is_integer() for n in x]):\n",
    "        all_integers = True\n",
    "    else:\n",
    "        all_integers = False\n",
    "    \n",
    "    # If all variables are integers, we have reached the solution \n",
    "    if all_integers:\n",
    "        return x, z\n",
    "    \n",
    "    # Otherwise we need to branch the value with the most decimal difference similar to how the paper explained\n",
    "    else:\n",
    "        # Start by copying the lower bounds and upper bounds into new arrays. This is how we establish branching\n",
    "        left_lb = deepcopy(lb)\n",
    "        left_up = deepcopy(ub)\n",
    "\n",
    "        right_lb = deepcopy(lb)\n",
    "        right_up = deepcopy(ub)\n",
    "\n",
    "        # Find which variable has the maximum decimal difference and save the index (HINT: what math operation deals with remainders?)\n",
    "        max_difference_idx = np.argmax(np.mod(x, 1))\n",
    "\n",
    "        # Set the upper and lower bounds based on branching at that variable (floor and ceiling)\n",
    "        left_up[max_difference_idx] = math.floor(x[max_difference_idx])\n",
    "        right_lb[max_difference_idx] = math.ceil(x[max_difference_idx])\n",
    "\n",
    "        # Recursively get values for the optimized solution of the left and right nodes\n",
    "        x_left, z_left = branch_and_bound(c, A, b, left_lb, left_up)\n",
    "        x_right, z_right = branch_and_bound(c, A, b, right_lb, right_up)\n",
    "\n",
    "        # Return the coefficients with the higher value of the two (HINT: This takes an if statement)\n",
    "        # If the left one was infeasible\n",
    "        if z_left is None:\n",
    "            # and the right one was infeasible, return None\n",
    "            if x_right is None:\n",
    "                return None, None\n",
    "            # otherwise, the right one worked, return it\n",
    "            return x_right, z_right\n",
    "        \n",
    "        # If the right one was infeasible, the left one exists, return it\n",
    "        if x_right is None:\n",
    "            return x_left, z_left\n",
    "\n",
    "        # IF they both exist, return the greater one.\n",
    "        if z_left > z_right:\n",
    "            return x_left, z_left\n",
    "        else: \n",
    "            return x_right, z_right"
   ]
  },
  {
   "cell_type": "markdown",
   "metadata": {},
   "source": [
    "Now, lets test the function you've written on the sample problem written above. "
   ]
  },
  {
   "cell_type": "code",
   "execution_count": 13,
   "metadata": {},
   "outputs": [
    {
     "name": "stdout",
     "output_type": "stream",
     "text": [
      "Variable\n",
      ">  x0 = 1.0\n",
      ">  x1 = 2.0\n",
      ">  x2 = 0.0\n",
      "Objective Function: -10.0\n"
     ]
    }
   ],
   "source": [
    "c = np.array([4, 3, 1])\n",
    "A = np.array([[3, 2, 1], [2, 1, 2]])\n",
    "b = np.array([7, 11])\n",
    "\n",
    "lb = np.array([0, 0, 0])\n",
    "ub = np.array([None, None, None])\n",
    "\n",
    "x, z = branch_and_bound(c, A, b, lb, ub)\n",
    "\n",
    "print(\"Variable\")\n",
    "for idx, var in enumerate(x): \n",
    "    print(f\">  x{idx} = {var}\")\n",
    "\n",
    "print(f\"Objective Function: {z}\")"
   ]
  },
  {
   "cell_type": "markdown",
   "metadata": {},
   "source": [
    "If correct, your solution should be x0 = 1, x1 = 2, and x2 = 0"
   ]
  }
 ],
 "metadata": {
  "kernelspec": {
   "display_name": "venv",
   "language": "python",
   "name": "python3"
  },
  "language_info": {
   "codemirror_mode": {
    "name": "ipython",
    "version": 3
   },
   "file_extension": ".py",
   "mimetype": "text/x-python",
   "name": "python",
   "nbconvert_exporter": "python",
   "pygments_lexer": "ipython3",
   "version": "3.12.9"
  }
 },
 "nbformat": 4,
 "nbformat_minor": 2
}
