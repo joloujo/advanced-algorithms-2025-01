{
 "cells": [
  {
   "cell_type": "markdown",
   "id": "20f94e96",
   "metadata": {},
   "source": [
    "\n",
    "# Linear Programming Lab\n",
    "\n",
    "## Total: 40 points\n",
    "\n",
    "In this lab, you will explore a useful extension of linear programming duality (covered in class\n",
    "LP Day 1) called linear programming sensitivity analysis. Here, we aim to find:\n",
    "\n",
    "- How does the solution change when the objective function changes?\n",
    "- How does the solution change when the resource limits change?\n",
    "- How does the solution change when a constraint is added to the problem?\n",
    "\n",
    "One approach to these types of questions is solving lots of slightly different linear programming problems. This method would work, but it is inelegant and (for large problems) computationally expensive (but in most cases today, computation is cheap and computing solutions to many problems is a standard technique to study sensitivity in practice). However, there is a more elegant solution\n",
    "that gives these answers just by examining the dual information provided by the Simplex Algorithm.\n",
    "\n",
    "**Consider the following scenario:** An instrument company makes trombones and trumpets. A trombone requires 40 square inches of metal sheet and a trumpet requires 30 square inches of metal. Metal costs $1 per square inch and 40,000 square inches are available. It takes two hours of skilled labor to make a novice quality trombone or a novice quality trumpet. Three more hours of skilled labor will turn a novice quality trombone into a professional trombone. Two more hours of skilled labor will turn a novice quality trumpet into a professional trumpet. There are 6000 hours of skilled labor available. Assume that you do not need to pay for labor. Assume that you can sell fractional trombones and trumpets. The market selling prices and production costs are given in the following table:\n",
    "\n",
    "| Product    | Market Price | Cost (metal $1/sq.in.) |\n",
    "| -------- | ------- | ------- |\n",
    "| Novice Trombone | $70 | $40 |\n",
    "| Professional Trombone | $140 | $40 |\n",
    "| Novice Trumpet | $60 | $30 |\n",
    "| Professional Trumpet | $110 | $30 |\n",
    "\n",
    "---\n"
   ]
  },
  {
   "cell_type": "markdown",
   "id": "8c34dead",
   "metadata": {},
   "source": [
    "# Problem 1: Formulate the LP (5 points)\n",
    "## 1a: Set up the LP (3 points)\n",
    "\n",
    "Write an objective function that maximizes profits (market price - production\n",
    "costs) and all constraints.\n",
    "\n",
    "### Instructions\n",
    "- Write the equations, using LaTeX, between the $$ tags. Then convert the LP problem into code by referring to this documentation: [PuLP Guide](https://realpython.com/linear-programming-python/#using-pulp)"
   ]
  },
  {
   "cell_type": "markdown",
   "id": "c30746dd",
   "metadata": {},
   "source": [
    "### Solution:\n",
    "Objective Function: $$ Z = (70 - 40) b_n + (140 - 40) b_p + (60 - 30) p_n + (110 - 30) p_p $$\n",
    "Constraints:\n",
    "- Metal usage constraint: $$ 40 (b_n + b_p) + 30 (p_n + p_p) \\le 40000 $$\n",
    "- Labor usage constraint: $$ 2 (b_n + p_n) + 3 b_p + 2 p_p \\le 6000 $$\n",
    "- Non-negativity constraint: $$ b_n,  b_p, p_n, p_p \\ge 0 $$"
   ]
  },
  {
   "cell_type": "code",
   "execution_count": 56,
   "id": "592d8519",
   "metadata": {},
   "outputs": [],
   "source": [
    "from pulp import LpMaximize, LpProblem, LpVariable, LpStatus, PULP_CBC_CMD\n",
    "import copy\n",
    "\n",
    "# Define the problem\n",
    "main_model = LpProblem(name=\"instrument-production\", sense=LpMaximize) # (please do not rename this variable as it's used later in the notebook)\n",
    "\n",
    "# Define variables\n",
    "x1 = LpVariable(name=\"x1\", lowBound=0)  # Novice Trombone\n",
    "x2 = LpVariable(name=\"x2\", lowBound=0)  # Professional Trombone\n",
    "x3 = LpVariable(name=\"x3\", lowBound=0)  # Novice Trumpet\n",
    "x4 = LpVariable(name=\"x4\", lowBound=0)  # Professional Trumpet\n",
    "\n",
    "# Objective function\n",
    "main_model += (70 - 40) * x1 + (140 - 40) * x2 + (60 - 30) * x3 + (110 - 30) * x4\n",
    "\n",
    "# Constraints\n",
    "# 1. Total metal sheet used\n",
    "main_model += (40 * (x1 + x2) + 30 * (x3 + x4) <= 40000, \"total_metal_sheet\")\n",
    "\n",
    "# 2. Total skilled labor hours used\n",
    "main_model += (2 * (x1 + x3 + x4) + 3 * x2 <= 6000, \"total_skilled_labor\")\n",
    "\n",
    "# 3. Non-negativity constraints (already enforced by lowBound=0 in variable definition)"
   ]
  },
  {
   "cell_type": "markdown",
   "id": "e1fa5efc",
   "metadata": {},
   "source": [
    "## 1b) Solve the LP Computationally (1 point)\n",
    "Use the model we created above to find the optimal profit. Run the code block below to solve the problem."
   ]
  },
  {
   "cell_type": "markdown",
   "id": "b8ee79ad",
   "metadata": {},
   "source": [
    "### Solution:\n",
    "\n",
    "Optimal Profit: $106,666.67"
   ]
  },
  {
   "cell_type": "code",
   "execution_count": 57,
   "id": "a1e36d90",
   "metadata": {},
   "outputs": [
    {
     "data": {
      "text/plain": [
       "1"
      ]
     },
     "execution_count": 57,
     "metadata": {},
     "output_type": "execute_result"
    }
   ],
   "source": [
    "# Solve the problem\n",
    "main_model.solve()"
   ]
  },
  {
   "cell_type": "markdown",
   "id": "1bc7a7aa",
   "metadata": {},
   "source": [
    "## 1c.) What is the optimal number of each instrument to produce? (1 point)\n",
    "Run the code cell below to find the optimal value for each variable in the model. Fill in the table below.\n",
    "### Solution:\n",
    "\n",
    "| Variable    | Value |\n",
    "| -------- | ------- |\n",
    "| `x1` | $0$ |\n",
    "| `x2` | $0$ |\n",
    "| `x3` | $0$ |\n",
    "| `x4` | $1333 \\frac{1}{3}$ |"
   ]
  },
  {
   "cell_type": "code",
   "execution_count": 58,
   "id": "7997d85f",
   "metadata": {},
   "outputs": [
    {
     "name": "stdout",
     "output_type": "stream",
     "text": [
      "x1 0.0\n",
      "x2 0.0\n",
      "x3 0.0\n",
      "x4 1333.3333\n"
     ]
    }
   ],
   "source": [
    "for var in main_model.variables():\n",
    "    print(var.name, var.value())"
   ]
  },
  {
   "cell_type": "markdown",
   "id": "17cfb887",
   "metadata": {},
   "source": [
    "# Problem 2: Sensitivity of Novice Quality Trumpets (5 points)\n",
    "\n",
    "## 2a) (2 points)\n",
    "\n",
    "What would happen if the market price of novice quality trumpets went up? In other words, how much can the market price coefficient in the objective function change without causing the optimal basis to change? This is also called “allowable increase.” You are provided a helper function to find the allowable increase. Try messing with the parameters and looking at the source code in the `helpers.py` file to understand how it works."
   ]
  },
  {
   "cell_type": "markdown",
   "id": "ca1b30dd",
   "metadata": {},
   "source": [
    "### Solution:\n",
    "\n",
    "If the market price of novice quality trumpets went up, not much would happen until you hit the same price as the professional quality trumpets. Once that price was reached, novice quality trumpets would start to become more profitable than professional ones."
   ]
  },
  {
   "cell_type": "code",
   "execution_count": 59,
   "id": "21680bc7",
   "metadata": {},
   "outputs": [
    {
     "name": "stdout",
     "output_type": "stream",
     "text": [
      "Iteration 1: Coefficient of x3: 60, Objective value: 106666.664, Solution: {'x1': 0.0, 'x2': 0.0, 'x3': 0.0, 'x4': 1333.3333}\n",
      "----------------------------------------\n",
      "Iteration 2: Coefficient of x3: 65, Objective value: 106666.664, Solution: {'x1': 0.0, 'x2': 0.0, 'x3': 0.0, 'x4': 1333.3333}\n",
      "----------------------------------------\n",
      "Iteration 3: Coefficient of x3: 70, Objective value: 106666.664, Solution: {'x1': 0.0, 'x2': 0.0, 'x3': 0.0, 'x4': 1333.3333}\n",
      "----------------------------------------\n"
     ]
    },
    {
     "name": "stderr",
     "output_type": "stream",
     "text": [
      "c:\\Users\\dsalmieri\\Documents\\GitHub\\advanced-algorithms-2025-01\\venv\\Lib\\site-packages\\pulp\\pulp.py:1650: UserWarning: Overwriting previously set objective.\n",
      "  warnings.warn(\"Overwriting previously set objective.\")\n"
     ]
    },
    {
     "name": "stdout",
     "output_type": "stream",
     "text": [
      "Iteration 4: Coefficient of x3: 75, Objective value: 106666.664, Solution: {'x1': 0.0, 'x2': 0.0, 'x3': 0.0, 'x4': 1333.3333}\n",
      "----------------------------------------\n",
      "Iteration 5: Coefficient of x3: 80, Objective value: 106666.664, Solution: {'x1': 0.0, 'x2': 0.0, 'x3': 0.0, 'x4': 1333.3333}\n",
      "----------------------------------------\n",
      "Iteration 6: Coefficient of x3: 85, Objective value: 106666.664, Solution: {'x1': 0.0, 'x2': 0.0, 'x3': 0.0, 'x4': 1333.3333}\n",
      "----------------------------------------\n",
      "Iteration 7: Coefficient of x3: 90, Objective value: 106666.664, Solution: {'x1': 0.0, 'x2': 0.0, 'x3': 0.0, 'x4': 1333.3333}\n",
      "----------------------------------------\n",
      "Iteration 8: Coefficient of x3: 95, Objective value: 106666.664, Solution: {'x1': 0.0, 'x2': 0.0, 'x3': 0.0, 'x4': 1333.3333}\n",
      "----------------------------------------\n",
      "Iteration 9: Coefficient of x3: 100, Objective value: 106666.664, Solution: {'x1': 0.0, 'x2': 0.0, 'x3': 0.0, 'x4': 1333.3333}\n",
      "----------------------------------------\n",
      "Iteration 10: Coefficient of x3: 105, Objective value: 106666.664, Solution: {'x1': 0.0, 'x2': 0.0, 'x3': 0.0, 'x4': 1333.3333}\n",
      "----------------------------------------\n",
      "Iteration 11: Coefficient of x3: 110, Objective value: 106666.664, Solution: {'x1': 0.0, 'x2': 0.0, 'x3': 1333.3333, 'x4': 0.0}\n",
      "----------------------------------------\n",
      "Optimal basis changed at coefficient 110.\n",
      "\n",
      "The allowable increase for x3 is: 50\n"
     ]
    }
   ],
   "source": [
    "from helpers import find_allowable_increase\n",
    "# Run the helper to find the allowable increase for x3\n",
    "allowable_increase = find_allowable_increase(base_model=main_model, var_name=\"x3\", base_coef=60, step=5)\n",
    "\n",
    "print(f\"The allowable increase for x3 is: {allowable_increase}\")"
   ]
  },
  {
   "cell_type": "markdown",
   "id": "04e9faf4",
   "metadata": {},
   "source": [
    "## 2b) (2 points)\n",
    "Would novice trumpets be more profitable than professional trumpets to produce if novice trumpets sold for the same amount as professional quality trumpets?"
   ]
  },
  {
   "cell_type": "markdown",
   "id": "e5f111b0",
   "metadata": {},
   "source": [
    "### Solution:\n",
    "If novice trumpets were sold for the same price as professional trumpets, the only difference between them would be the amount of time they would take to make. We also have to keep in mind that we aren't paying for labor. If \"more profitable\" means that they have a greater impact on the total value of the system, then no, they would be exactly as profitable as professional trumpets."
   ]
  },
  {
   "cell_type": "markdown",
   "id": "f8ec6827",
   "metadata": {},
   "source": [
    "## 2c) (1 point)\n",
    "What would change if the price went down?"
   ]
  },
  {
   "cell_type": "markdown",
   "id": "44757e81",
   "metadata": {},
   "source": [
    "### Solution:\n",
    "They then wouldn't be as profitable, and would no longer be a basic variable."
   ]
  },
  {
   "cell_type": "markdown",
   "id": "8eca32b7",
   "metadata": {},
   "source": [
    "# Problem 3: Sensitivity of Novice Quality Trombones (5 points)\n",
    "\n",
    "## 3a) (2 points)\n",
    "\n",
    "What would happen if the market price of novice quality trombones went up? In other words, what is the “allowable increase” in the market price of novice quality trombones?\n"
   ]
  },
  {
   "cell_type": "markdown",
   "id": "e8b6a92f",
   "metadata": {},
   "source": [
    "### Solution:\n",
    "The allowable increase in the market price of novice quality trombones is 77. This means that once novice quality trombones are worth $77, they start to become more profitable than professional level trombones."
   ]
  },
  {
   "cell_type": "code",
   "execution_count": 60,
   "id": "96bdc967",
   "metadata": {},
   "outputs": [
    {
     "name": "stdout",
     "output_type": "stream",
     "text": [
      "Optimal basis changed at coefficient 137.\n",
      "\n",
      "The allowable increase for x1 is: 77\n"
     ]
    }
   ],
   "source": [
    "from helpers import find_allowable_increase\n",
    "\n",
    "# setting verbose to False since we take smaller steps for this variable and don't want to print every iteration\n",
    "allowable_increase = find_allowable_increase(base_model=main_model, var_name=\"x1\", base_coef=60, step=1, max_iter=100, verbose=False)\n",
    "\n",
    "print(f\"The allowable increase for x1 is: {allowable_increase}\")"
   ]
  },
  {
   "cell_type": "markdown",
   "id": "6704a335",
   "metadata": {},
   "source": [
    "## 3b) (3 points)\n",
    "Would they be profitable to produce if they sold for the same amount as professional quality trombones? What would make them profitable to produce (intuitive explanation is expected, not specific numbers)?"
   ]
  },
  {
   "cell_type": "markdown",
   "id": "88a39c0e",
   "metadata": {},
   "source": [
    "### Solution:\n",
    "\n",
    "In one sense, they wouldn't individually be more profitable, they would be exactly as profitable. That said, because there is a limited amount of labor hours and novice quality trombones take less time to make, more of them could be made, so they would be more profitable overall."
   ]
  },
  {
   "cell_type": "markdown",
   "id": "f37755c5",
   "metadata": {},
   "source": [
    "# Problem 4: Sensitivity of Professional Quality Trumpets (2 points)\n",
    "\n",
    "What would happen to the optimal solution if the price of professional quality trumpets fell to $100? If there is a change, what would the new production plan and optimal profit be?\n",
    "\n",
    "Provide your analysis and corresponding code below."
   ]
  },
  {
   "cell_type": "markdown",
   "id": "b360bf22",
   "metadata": {},
   "source": [
    "### Solution:\n",
    "\n",
    "| Variable    | Value |\n",
    "| -------- | ------- |\n",
    "| `x1` | $0$ |\n",
    "| `x2` | $1000$ |\n",
    "| `x3` | $0$ |\n",
    "| `x4` | $0$ |\n",
    "\n",
    "There is a change, and it is that professional trombones become the optimal production plan. This is because the ratio of instrument price to material used changes, which then makes professional trombones optimal."
   ]
  },
  {
   "cell_type": "code",
   "execution_count": 61,
   "id": "bec5fa2c",
   "metadata": {},
   "outputs": [
    {
     "name": "stdout",
     "output_type": "stream",
     "text": [
      "Sensitivity Analysis for Professional Quality Trumpets (Price = $100):\n",
      "Objective value (Profit): 100000.0\n",
      "x1: 0.0\n",
      "x2: 1000.0\n",
      "x3: 0.0\n",
      "x4: 0.0\n"
     ]
    }
   ],
   "source": [
    "low_trumpet_model = LpProblem(name=\"instrument-production\", sense=LpMaximize)\n",
    "\n",
    "# Define variables\n",
    "x1 = LpVariable(name=\"x1\", lowBound=0)  # Novice Trombone\n",
    "x2 = LpVariable(name=\"x2\", lowBound=0)  # Professional Trombone\n",
    "x3 = LpVariable(name=\"x3\", lowBound=0)  # Novice Trumpet\n",
    "x4 = LpVariable(name=\"x4\", lowBound=0)  # Professional Trumpet\n",
    "\n",
    "# TODO: Re-define Objective function\n",
    "low_trumpet_model += (70 - 40) * x1 + (140 - 40) * x2 + (60 - 30) * x3 + (100 - 30) * x4\n",
    "\n",
    "# Constraints\n",
    "low_trumpet_model += 40 * x1 + 40 * x2 + 30 * x3 + 30 * x4 <= 40000, \"Metal Sheet Constraint\"\n",
    "low_trumpet_model += 2 * x1 + 5 * x2 + 2 * x3 + 4 * x4 <= 6000, \"Skilled Labor Constraint\"\n",
    "\n",
    "# Solve the low_trumpet_model\n",
    "low_trumpet_model.solve(PULP_CBC_CMD(msg=0))\n",
    "\n",
    "# Display results\n",
    "print(\"Sensitivity Analysis for Professional Quality Trumpets (Price = $100):\")\n",
    "print(f\"Objective value (Profit): {low_trumpet_model.objective.value()}\")\n",
    "for var in low_trumpet_model.variables():\n",
    "    print(f\"{var.name}: {var.value()}\")"
   ]
  },
  {
   "cell_type": "markdown",
   "metadata": {},
   "source": [
    "# Problem 5: Sensitivity of Metal Resources (8 points)\n",
    "\n",
    "## 5a) (4 points)\n",
    "How do production plans change when metal supplies change? At which point does metal stop being a limiting resource and how do you know?\n",
    "\n",
    "**HINT**: To find out how the production plans change when metal supplies change, you can use a **guess-and-check approach**. \n",
    "\n",
    "1. Start with the current RHS of the \"Metal Sheet Constraint\" (40,000 square inches).\n",
    "2. Gradually increase or decrease the RHS (e.g., by 1,000 or 5,000 units at a time).\n",
    "3. For each adjustment:\n",
    "   - Re-run to solve the problem and record the production plan (values of x_1, x_2, x_3, x_4) and the total profit.\n",
    "   - Compare the new solution to the original solution (at RHS = 40,000).\n",
    "4. Stop increasing when you notice the production plan has stopped changing. The last RHS value before the variable values stop changing is the **RHS Tolerance Upper Bound**.\n",
    "5. Stop decreasing when the model becomes infeasible. The last RHS value before the model becomes infeasible is the **RHS Tolerance Lower Bound**."
   ]
  },
  {
   "cell_type": "markdown",
   "id": "cb50a10c",
   "metadata": {},
   "source": [
    "### Solution:\n",
    "\n",
    "RHS Tolerance Upper Bound: 90,000\n",
    "\n",
    "RHS Tolerance Lower Bound: 0"
   ]
  },
  {
   "cell_type": "code",
   "execution_count": 62,
   "id": "ebf988d0",
   "metadata": {},
   "outputs": [
    {
     "name": "stdout",
     "output_type": "stream",
     "text": [
      "Initial Solution:\n",
      "Total Profit: $106666.66\n",
      "Production Plan:\n",
      "  x1: 0.0\n",
      "  x2: 0.0\n",
      "  x3: 0.0\n",
      "  x4: 1333.3333\n",
      "\n",
      "Slack Values for Constraints:\n",
      "  total_metal_sheet: RHS = -40000, slack = -0.0\n",
      "  total_skilled_labor: RHS = -6000, slack = 3333.3333\n",
      "---------------------------------------------\n",
      "After Adjusting Metal Sheet Constraint:\n",
      "Model Solution Status: Optimal\n",
      "Total Profit: $0.00\n",
      "Production Plan:\n",
      "  x1: 0.0\n",
      "  x2: 0.0\n",
      "  x3: 0.0\n",
      "  x4: 0.0\n",
      "\n",
      "Slack Values for Constraints:\n",
      "  total_metal_sheet: RHS = 0, slack = -0.0\n",
      "  total_skilled_labor: RHS = -6000, slack = 6000.0\n"
     ]
    }
   ],
   "source": [
    "rhs_tol_model = copy.deepcopy(main_model)\n",
    "\n",
    "# Print the results\n",
    "print(\"Initial Solution:\")\n",
    "print(f\"Total Profit: ${rhs_tol_model.objective.value():.2f}\")\n",
    "print(\"Production Plan:\")\n",
    "for var in rhs_tol_model.variables():\n",
    "    print(f\"  {var.name}: {var.varValue}\")\n",
    "\n",
    "# Check slack for each constraint\n",
    "print(\"\\nSlack Values for Constraints:\")\n",
    "for name, constraint in rhs_tol_model.constraints.items():\n",
    "    print(f\"  {name}: RHS = {constraint.constant}, slack = {constraint.slack}\")\n",
    "\n",
    "# ---------------------------------------------\n",
    "# Guess-and-Check Setup\n",
    "# ---------------------------------------------\n",
    "# Change the RHS of the \"Metal Sheet Constraint\" below and re-run this block of code.\n",
    "rhs_tol_model.constraints[\"total_metal_sheet\"].changeRHS(0)  # TODO: Change this value\n",
    "\n",
    "print(\"---------------------------------------------\")\n",
    "print(\"After Adjusting Metal Sheet Constraint:\")\n",
    "\n",
    "# Re-solve the problem\n",
    "rhs_tol_model.solve(PULP_CBC_CMD(msg=0))\n",
    "print(f\"Model Solution Status: {LpStatus[rhs_tol_model.status]}\")\n",
    "\n",
    "# Print updated results\n",
    "print(f\"Total Profit: ${rhs_tol_model.objective.value():.2f}\")\n",
    "print(\"Production Plan:\")\n",
    "for var in rhs_tol_model.variables():\n",
    "    print(f\"  {var.name}: {var.varValue}\")\n",
    "\n",
    "# Check slack for each constraint\n",
    "print(\"\\nSlack Values for Constraints:\")\n",
    "for name, constraint in rhs_tol_model.constraints.items():\n",
    "    print(f\"  {name}: RHS = {constraint.constant}, slack = {constraint.slack}\")"
   ]
  },
  {
   "cell_type": "markdown",
   "id": "2f8cd676",
   "metadata": {},
   "source": [
    "## 5b) (4 points)\n",
    "**What is the shadow price of metal?**  \n",
    "1. Explain the concept of a shadow price in the context of the \"Metal Sheet Constraint\" and how it impacts the objective function (profit).  \n",
    "2. Using the shadow price, calculate how much the profit is expected to change if the metal supplies increase by 500 square inches.  \n",
    "3. Solve the problem again with the increased metal supplies and verify the expected profit change and the new production plan.\n",
    "\n",
    "Use the following formula for profit change:  \n",
    "$$ \\Delta profit = \\Delta \\text{metal supplies quantity} \\cdot dual_{metal} $$\n",
    "\n",
    "---\n",
    "\n",
    "### HINT\n",
    "\n",
    "1. **What is the Shadow Price?**  \n",
    "   The shadow price (also called the dual value) of a constraint tells you how much the objective value (profit) will change per unit increase in the RHS of the constraint, as long as the change is within the **RHS tolerance interval**.\n",
    "\n",
    "2. **How to Find the Shadow Price?**  \n",
    "   - Solve the LP model with the original RHS.\n",
    "   - Check the **dual value** (`constraint.pi`) of the \"Metal Sheet Constraint\" in the solver's output. This is the shadow price.\n",
    "\n",
    "3. **Useful Methods**\n",
    "   - Use `shadow_model.constraints[\"Metal_Sheet_Constraint\"].changeRHS(new_rhs)` to update the RHS of the \"Metal Sheet Constraint\""
   ]
  },
  {
   "cell_type": "markdown",
   "id": "149ba3eb",
   "metadata": {},
   "source": [
    "### Solution:\n",
    "\n",
    "1. The shadow price of metal is how much the total value will increase for each additional unit of metal sheet we get access to. Right now, the amount of metal sheet is the limiting factor, so increasing it will increase our value. In this case, each additional unit of metal sheet allows us to make \\$2.67 more, becuase the profit from professional trumpets (our most profitable item still) divided by the amount of metal sheet they use is $\\frac{110-30}{30} = \\frac{80}{30} = 2.67$\n",
    "2. The price should change by $2.67 * 500 = 1333.33$\n",
    "3. Verified"
   ]
  },
  {
   "cell_type": "code",
   "execution_count": 63,
   "id": "06ee488d",
   "metadata": {},
   "outputs": [
    {
     "data": {
      "text/plain": [
       "2.6666667"
      ]
     },
     "execution_count": 63,
     "metadata": {},
     "output_type": "execute_result"
    }
   ],
   "source": [
    "main_model.constraints['total_metal_sheet'].pi"
   ]
  },
  {
   "cell_type": "code",
   "execution_count": 64,
   "id": "2310a05f",
   "metadata": {},
   "outputs": [
    {
     "name": "stdout",
     "output_type": "stream",
     "text": [
      "Original results:\n",
      "New Profit: 106666.664\n",
      "Production Plan:\n",
      "  x1: 0.0\n",
      "  x2: 0.0\n",
      "  x3: 0.0\n",
      "  x4: 1333.3333\n",
      "New Results with Increased Metal Supply:\n",
      "New Profit: 108000.0\n",
      "Production Plan:\n",
      "  x1: 0.0\n",
      "  x2: 0.0\n",
      "  x3: 0.0\n",
      "  x4: 1350.0\n"
     ]
    }
   ],
   "source": [
    "shadow_model = copy.deepcopy(main_model)\n",
    "\n",
    "shadow_model.solve()\n",
    "\n",
    "# Show the original results\n",
    "print(\"Original results:\")\n",
    "print(f\"New Profit: {shadow_model.objective.value()}\")\n",
    "print(\"Production Plan:\")\n",
    "for var in shadow_model.variables():\n",
    "    print(f\"  {var.name}: {var.value()}\")\n",
    "\n",
    "# Update the constraints and resolve\n",
    "shadow_model.constraints[\"total_metal_sheet\"].changeRHS(40500)\n",
    "shadow_model.solve()\n",
    "\n",
    "# Display the new results\n",
    "print(\"New Results with Increased Metal Supply:\")\n",
    "print(f\"New Profit: {shadow_model.objective.value()}\")\n",
    "print(\"Production Plan:\")\n",
    "for var in shadow_model.variables():\n",
    "    print(f\"  {var.name}: {var.value()}\")"
   ]
  },
  {
   "cell_type": "markdown",
   "id": "adee66b0",
   "metadata": {},
   "source": [
    "# Problem 6: Sensitivity of Labor Resources (5 points)\n",
    "\n",
    "## 6a) (1 point)\n",
    "How much labor is unused?\n",
    "\n",
    "HINT: What is the slack?"
   ]
  },
  {
   "cell_type": "markdown",
   "id": "a0cb6ae6",
   "metadata": {},
   "source": [
    "The slack is $3333 \\frac{1}{3}$"
   ]
  },
  {
   "cell_type": "code",
   "execution_count": 65,
   "id": "9d739b21",
   "metadata": {},
   "outputs": [
    {
     "name": "stdout",
     "output_type": "stream",
     "text": [
      "\n",
      "Slack Values for Constraints:\n",
      "  total_metal_sheet: RHS = -40000, slack = -0.0\n",
      "  total_skilled_labor: RHS = -6000, slack = 3333.3333\n"
     ]
    }
   ],
   "source": [
    "print(\"\\nSlack Values for Constraints:\")\n",
    "for name, constraint in main_model.constraints.items():\n",
    "    print(f\"  {name}: RHS = {constraint.constant}, slack = {constraint.slack}\")"
   ]
  },
  {
   "cell_type": "markdown",
   "id": "b90c54ba",
   "metadata": {},
   "source": [
    "## 6b) (2 points)\n",
    "How much would you be willing to pay an additional laborer?"
   ]
  },
  {
   "cell_type": "markdown",
   "id": "c4bdb9c6",
   "metadata": {},
   "source": [
    "### Solution:\n",
    "\n",
    "I wouldn't pay for additional labor. Right now, labor is not the limiting facor (there is slack) so adding labor won't increase value. For it to be worth it for me to pay for labor, we would have to get a lot more metal sheet."
   ]
  },
  {
   "cell_type": "markdown",
   "id": "81eb7c5e",
   "metadata": {},
   "source": [
    "## 6c) (2 points)\n",
    "Suppose that industrial regulation complicate the process so it takes an additional hour of labor to turn a novice quality instrument into a professional quality instrument. How and why does that change affect the optimal production plan and profit?"
   ]
  },
  {
   "cell_type": "code",
   "execution_count": 81,
   "id": "4be5dac9",
   "metadata": {},
   "outputs": [
    {
     "name": "stdout",
     "output_type": "stream",
     "text": [
      "Results:\n",
      "New Profit: 106666.664\n",
      "Production Plan:\n",
      "  x1: 0.0\n",
      "  x2: 0.0\n",
      "  x3: 0.0\n",
      "  x4: 1333.3333\n",
      "\n",
      "Slack Values for Constraints:\n",
      "  total_metal_sheet: RHS = -40000, slack = -0.0\n",
      "  total_skilled_labor: RHS = -6000, slack = 2000.0\n"
     ]
    }
   ],
   "source": [
    "regulation_model = LpProblem(name=\"regulation\", sense=LpMaximize)\n",
    "\n",
    "x1 = LpVariable(name=\"x1\", lowBound=0)  # Novice Trombone\n",
    "x2 = LpVariable(name=\"x2\", lowBound=0)  # Professional Trombone\n",
    "x3 = LpVariable(name=\"x3\", lowBound=0)  # Novice Trumpet\n",
    "x4 = LpVariable(name=\"x4\", lowBound=0)  # Professional Trumpet\n",
    "\n",
    "# Objective function\n",
    "regulation_model += (70 - 40) * x1 + (140 - 40) * x2 + (60 - 30) * x3 + (110 - 30) * x4\n",
    "\n",
    "# Constraints\n",
    "# 1. Total metal sheet used\n",
    "regulation_model += (40 * (x1 + x2) + 30 * (x3 + x4) <= 40000, \"total_metal_sheet\")\n",
    "\n",
    "# 2. Total skilled labor hours used\n",
    "regulation_model += (2 * (x1 + x3) + 3 * (x2 + x4) <= 6000, \"total_skilled_labor\")\n",
    "\n",
    "regulation_model.solve()\n",
    "\n",
    "# Show the original results\n",
    "print(\"Results:\")\n",
    "print(f\"New Profit: {regulation_model.objective.value()}\")\n",
    "print(\"Production Plan:\")\n",
    "for var in regulation_model.variables():\n",
    "    print(f\"  {var.name}: {var.value()}\")\n",
    "\n",
    "# Check slack for each constraint\n",
    "print(\"\\nSlack Values for Constraints:\")\n",
    "for name, constraint in regulation_model.constraints.items():\n",
    "    print(f\"  {name}: RHS = {constraint.constant}, slack = {constraint.slack}\")"
   ]
  },
  {
   "cell_type": "markdown",
   "id": "7c448e21",
   "metadata": {},
   "source": [
    "### Solution:\n",
    "\n",
    "This doesn't change the optimal production plan or profit because skilled labor isn't the limiting factor. Even though it takes more time to make professional trumpets, the reason that we could only make 1333.33 of them wasn't the time they took, but the material. There was enough slack in the labor constraint to absorb the increased time."
   ]
  },
  {
   "cell_type": "markdown",
   "id": "b44af695",
   "metadata": {},
   "source": [
    "# Problem 7: Sensitivity of New Constraint (5 points)\n",
    "\n",
    "## 7a) (4 points)\n",
    "The owner of the company comes up with a design for a beautiful hand-crafted tuba. Each tuba requires 250 hours of labor (6.25 weeks of full time work) and uses 50 square inches of metal. If the\n",
    "company can sell tubas for $200, would it be worthwhile to produce? Use:\n",
    "$$ \\text{(marginal cost of metal)}_{tuba} = \\text{(metal used)}_{tuba} \\cdot dual_{metal} $$\n",
    "\n",
    "Discuss how looking at the shadow prices of metal and labor can help\n",
    "you intuit whether diverting metal resources to tuba production is a good idea. Check your intuition with the solver."
   ]
  },
  {
   "cell_type": "markdown",
   "id": "eb32cc6f",
   "metadata": {},
   "source": [
    "### Solution:\n",
    "\n",
    "$ \\text{(marginal cost of metal)}_{tuba} = \\text{(metal used)}_{tuba} \\cdot dual_{metal} \\rightarrow \\text{(marginal cost of metal)}_{tuba} = 50 \\cdot 2 \\frac{2}{3} \\rightarrow \\text{(marginal cost of metal)}_{tuba} = 133 \\frac{1}{3}$\n",
    "\n",
    "Therefore, the potential profit for each tuba is $200 - 133 \\frac{1}{3} = 66 \\frac{2}{3}$, meaning it would be profitable to sell them until labor becomes a limiting factor. We can check this with the soolver and see that that's true, as the optimal solution includes selling ~13.5 tubas."
   ]
  },
  {
   "cell_type": "code",
   "execution_count": 82,
   "id": "88769b7e",
   "metadata": {},
   "outputs": [
    {
     "name": "stdout",
     "output_type": "stream",
     "text": [
      "Total Profit: $106666.66\n",
      "Production Plan:\n",
      "  x1: 0.0\n",
      "  x2: 0.0\n",
      "  x3: 0.0\n",
      "  x4: 1333.3333\n",
      "  x5: 0.0\n",
      "\n",
      "Slack Values for Constraints:\n",
      "  total_metal_sheet: RHS = -40000, slack = -0.0\n",
      "  total_skilled_labor: RHS = -6000, slack = 3333.3333\n"
     ]
    }
   ],
   "source": [
    "from pulp import LpMaximize, LpProblem, LpVariable, value\n",
    "\n",
    "# Check shadow prices\n",
    "main_model.constraints['total_metal_sheet'].pi\n",
    "\n",
    "# Define the problem\n",
    "tuba_model = LpProblem(name=\"instrument-production\", sense=LpMaximize)\n",
    "\n",
    "# Define variables\n",
    "x1 = LpVariable(name=\"x1\", lowBound=0)  # Novice Trombone\n",
    "x2 = LpVariable(name=\"x2\", lowBound=0)  # Professional Trombone\n",
    "x3 = LpVariable(name=\"x3\", lowBound=0)  # Novice Trumpet\n",
    "x4 = LpVariable(name=\"x4\", lowBound=0)  # Professional Trumpet\n",
    "x5 = LpVariable(name=\"x5\", lowBound=0)  # Tubas\n",
    "\n",
    "# Define the problem and analyze the shadow prices\n",
    "tuba_model += (70 - 40) * x1 + (140 - 40) * x2 + (60 - 30) * x3 + (110 - 30) * x4 + (150 - 50) * x5\n",
    "tuba_model += (40 * (x1 + x2) + 30 * (x3 + x4) + 50 * x5 <= 40000, \"total_metal_sheet\")\n",
    "tuba_model += (2 * (x1 + x3 + x4) + 3 * x2 + 250 * x5 <= 6000, \"total_skilled_labor\")\n",
    "\n",
    "# Solve the problem\n",
    "tuba_model.solve()\n",
    "\n",
    "# Print the results\n",
    "print(f\"Total Profit: ${tuba_model.objective.value():.2f}\")\n",
    "print(\"Production Plan:\")\n",
    "for var in tuba_model.variables():\n",
    "    print(f\"  {var.name}: {var.varValue}\")\n",
    "\n",
    "# Check slack for each constraint\n",
    "print(\"\\nSlack Values for Constraints:\")\n",
    "for name, constraint in tuba_model.constraints.items():\n",
    "    print(f\"  {name}: RHS = {constraint.constant}, slack = {constraint.slack}\")"
   ]
  },
  {
   "cell_type": "markdown",
   "id": "d6cda587",
   "metadata": {},
   "source": [
    "## 7b) (1 point)\n",
    "Is it profitable if tubas sell for $150? Why?"
   ]
  },
  {
   "cell_type": "markdown",
   "id": "4aea90da",
   "metadata": {},
   "source": [
    "### Solution:\n",
    "\n",
    "No, it isn't. We can check this quickly by rerunning the code, but we can also tell based on the marginal costs of the different items. We already know that the marginal cost of tubas is $133.33, and we can calculate that the marginal cost of professional trumpets is $30 * 2 \\frac{2}{3} = 80$. By finding the difference between this and the prices, we can see that $200 tubas would give $66.67 in profit, $110 professional trumpets would give $30 in profit, and $150 trumpets would give $16.67 in profit. Therefore, if tumpets were only sold for $150, they wouldn't be profitable."
   ]
  },
  {
   "cell_type": "markdown",
   "id": "da67b98b",
   "metadata": {},
   "source": [
    "# Problem 8: Making Sense of the Dual Problem (5 points)\n",
    "\n",
    "## 8a) (3 points)\n",
    "Set up the original problem’s corresponding dual LP. Write an objective function that maximizes profits (market price - production costs) and all dual constraints."
   ]
  },
  {
   "cell_type": "code",
   "execution_count": 84,
   "id": "bacea266",
   "metadata": {},
   "outputs": [],
   "source": [
    "from pulp import LpMinimize, LpProblem, LpVariable\n",
    "\n",
    "# Define the dual problem\n",
    "dual_model = LpProblem(name=\"dual-instrument-production\", sense=LpMinimize)\n",
    "\n",
    "# Define variables\n",
    "y1 = LpVariable(name=\"y1\", lowBound=0)  # Metal sheet\n",
    "y2 = LpVariable(name=\"y2\", lowBound=0)  # Labor hours\n",
    "\n",
    "# Define the dual problem\n",
    "dual_model += 40000 * y1 + 6000 * y2\n",
    "\n",
    "# 40 40 30 30\n",
    "#  2  3  2  2\n",
    "\n",
    "# 40  2 = 70 - 40\n",
    "# 40  3 = 140 - 40\n",
    "# 30  2 = 60 - 30\n",
    "# 30  2 = 110 - 30\n",
    "\n",
    "# Constraints\n",
    "dual_model += (40 * y1 + 2 * y2 >= 70 - 40, \"novice trombones\")\n",
    "dual_model += (40 * y1 + 3 * y2 >= 140 - 40, \"professional trombones\")\n",
    "dual_model += (30 * y1 + 2 * y2 >= 60 - 30, \"novice trumpets\")\n",
    "dual_model += (30 * y1 + 2 * y2 >= 110 - 30, \"professional trumpets\")"
   ]
  },
  {
   "cell_type": "markdown",
   "id": "746316b3",
   "metadata": {},
   "source": [
    "## 8b) (1 point)\n",
    "Run the code block below to solve the problem. What is the optimal profit? Give a plot of the constraints (you can use this [example](https://github.com/hakeemrehman/Python-PuLP-/blob/master/LP%20Using%20PuLP%20and%20Graphical%20Sol..ipynb) for guidance)."
   ]
  },
  {
   "cell_type": "code",
   "execution_count": 89,
   "id": "8fc9d1fd",
   "metadata": {},
   "outputs": [
    {
     "name": "stdout",
     "output_type": "stream",
     "text": [
      "Dual Problem Results:\n",
      "Optimal Value (Total Resource Value): 106666.66799999999\n"
     ]
    },
    {
     "data": {
      "image/png": "[encoded data removed]",
      "text/plain": [
       "<Figure size 640x480 with 1 Axes>"
      ]
     },
     "metadata": {},
     "output_type": "display_data"
    }
   ],
   "source": [
    "import matplotlib.pyplot as plt\n",
    "import numpy as np\n",
    "\n",
    "# Solve the dual problem\n",
    "dual_model.solve(PULP_CBC_CMD(msg=0))\n",
    "\n",
    "# Display the results\n",
    "print(\"Dual Problem Results:\")\n",
    "print(f\"Optimal Value (Total Resource Value): {dual_model.objective.value()}\")\n",
    "\n",
    "# Plot the optimal solution\n",
    "x = np.arange(0, 4)\n",
    "plt.plot(x, -20 * x + 15, label = '40y1 + 2y2 >= 70 - 40')\n",
    "plt.plot(x, -13.333 * x + 33.333, label = '40y1 + 3y2 >= 140 - 40')\n",
    "plt.plot(x, -15 * x + 15, label = '30y1 + 2y2 >= 60 - 30')\n",
    "plt.plot(x, -15 * x + 40, label = '30y1 + 2y2 >= 110 - 30')\n",
    "\n",
    "plt.axis([0, 3, 0, 50])\n",
    "plt.grid(True)\n",
    "plt.legend()\n",
    "plt.show()"
   ]
  },
  {
   "cell_type": "markdown",
   "id": "0043540e",
   "metadata": {},
   "source": [
    "## 8c) (1 point)\n",
    "Say something about the relationship between dual variables and slackness in the primal and dual problem."
   ]
  },
  {
   "cell_type": "markdown",
   "id": "d92f9648",
   "metadata": {},
   "source": [
    "### Solution:\n",
    "\n",
    "They correspond to each other. Each slack variable in the primal is a dual variable, and vice versa."
   ]
  }
 ],
 "metadata": {
  "kernelspec": {
   "display_name": "venv",
   "language": "python",
   "name": "python3"
  },
  "language_info": {
   "codemirror_mode": {
    "name": "ipython",
    "version": 3
   },
   "file_extension": ".py",
   "mimetype": "text/x-python",
   "name": "python",
   "nbconvert_exporter": "python",
   "pygments_lexer": "ipython3",
   "version": "3.12.9"
  }
 },
 "nbformat": 4,
 "nbformat_minor": 5
}
